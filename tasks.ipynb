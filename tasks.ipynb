{
 "cells": [
  {
   "cell_type": "code",
   "execution_count": 1,
   "id": "a2c8c214",
   "metadata": {},
   "outputs": [],
   "source": [
    "import pandas as pd\n",
    "import numpy as np"
   ]
  },
  {
   "cell_type": "markdown",
   "id": "a10f65f3",
   "metadata": {},
   "source": [
    "Задание 1. Создать объект Series из списка чисел [1, 2, 3] с метками [a, b, c] и вывести его на печать."
   ]
  },
  {
   "cell_type": "code",
   "execution_count": 2,
   "id": "9d4490d5",
   "metadata": {},
   "outputs": [],
   "source": [
    "s = pd.Series([1,2,3], index=['a', 'b', 'c'])"
   ]
  },
  {
   "cell_type": "code",
   "execution_count": 3,
   "id": "3b866f43",
   "metadata": {},
   "outputs": [
    {
     "name": "stdout",
     "output_type": "stream",
     "text": [
      "a    1\n",
      "b    2\n",
      "c    3\n",
      "dtype: int64\n"
     ]
    }
   ],
   "source": [
    "print(s)"
   ]
  },
  {
   "cell_type": "markdown",
   "id": "23e91140",
   "metadata": {},
   "source": [
    "Задание 2. Создать объект Series из словаря {'a': 1, 'b': 2, 'c': 3} и вывести его на печать."
   ]
  },
  {
   "cell_type": "code",
   "execution_count": 4,
   "id": "5701815e",
   "metadata": {},
   "outputs": [],
   "source": [
    "my_list = {'a': 1, 'b': 2, 'c': 3}\n",
    "s = pd.Series(my_list)"
   ]
  },
  {
   "cell_type": "code",
   "execution_count": 5,
   "id": "3cbd8d29",
   "metadata": {},
   "outputs": [
    {
     "name": "stdout",
     "output_type": "stream",
     "text": [
      "a    1\n",
      "b    2\n",
      "c    3\n",
      "dtype: int64\n"
     ]
    }
   ],
   "source": [
    "print(s)"
   ]
  },
  {
   "cell_type": "markdown",
   "id": "46eaafc1",
   "metadata": {},
   "source": [
    "Задание 3. Создать объект массива NumPy arr = [1, 2, 3, 4, 5] , затем из него создать объект Series и вывести его на печать."
   ]
  },
  {
   "cell_type": "code",
   "execution_count": 6,
   "id": "d6cb7e08",
   "metadata": {},
   "outputs": [],
   "source": [
    "my_array = np.array([1, 2, 3, 4, 5])\n",
    "s = pd.Series(my_array)"
   ]
  },
  {
   "cell_type": "code",
   "execution_count": 7,
   "id": "307ca927",
   "metadata": {},
   "outputs": [
    {
     "name": "stdout",
     "output_type": "stream",
     "text": [
      "0    1\n",
      "1    2\n",
      "2    3\n",
      "3    4\n",
      "4    5\n",
      "dtype: int32\n"
     ]
    }
   ],
   "source": [
    "print(s)"
   ]
  },
  {
   "cell_type": "markdown",
   "id": "bb69321f",
   "metadata": {},
   "source": [
    "Задание 4. Создать объект Series с заполнением по умолчанию значением 0 и метками [a, b, c] и вывести его на печать."
   ]
  },
  {
   "cell_type": "code",
   "execution_count": 8,
   "id": "dbfbc3cc",
   "metadata": {},
   "outputs": [],
   "source": [
    "s = pd.Series(0, index=['a', 'b', 'c'])"
   ]
  },
  {
   "cell_type": "code",
   "execution_count": 9,
   "id": "f7290a1f",
   "metadata": {},
   "outputs": [
    {
     "name": "stdout",
     "output_type": "stream",
     "text": [
      "a    0\n",
      "b    0\n",
      "c    0\n",
      "dtype: int64\n"
     ]
    }
   ],
   "source": [
    "print(s)"
   ]
  },
  {
   "cell_type": "markdown",
   "id": "0c74f6e7",
   "metadata": {},
   "source": [
    "Задание 5. В первой строке ввода с клавиатуры поступает строка с символами разлепленными пробелом, во второй строка с целыми числами. На их основе создать список кортежей и из него объект Series, вывести его на печать."
   ]
  },
  {
   "cell_type": "code",
   "execution_count": 13,
   "id": "4d41e5f2",
   "metadata": {},
   "outputs": [
    {
     "name": "stdout",
     "output_type": "stream",
     "text": [
      "Введите символы, разделенные пробелом a s d f\n",
      "Введите челые числа 1 2 3 4\n"
     ]
    }
   ],
   "source": [
    "str1 = input(\"Введите символы, разделенные пробелом \")\n",
    "str2 = input(\"Введите челые числа \")\n",
    "s1 = tuple(str(item) for item in str1.split(' '))\n",
    "s2 = tuple(int(item) for item in str2.split(' '))\n",
    "my_list = [s1, s2]\n",
    "s = pd.Series(my_list)"
   ]
  },
  {
   "cell_type": "code",
   "execution_count": 14,
   "id": "50d54095",
   "metadata": {},
   "outputs": [
    {
     "name": "stdout",
     "output_type": "stream",
     "text": [
      "0    (a, s, d, f)\n",
      "1    (1, 2, 3, 4)\n",
      "dtype: object\n"
     ]
    }
   ],
   "source": [
    "print(s)"
   ]
  },
  {
   "cell_type": "markdown",
   "id": "6564524a",
   "metadata": {},
   "source": [
    "Задание 6. На вход поступает строка слов, разделенных пробелом. Создать на ее основе объект Series с метками 0, 1, 2,... Вывести его на печать."
   ]
  },
  {
   "cell_type": "code",
   "execution_count": 18,
   "id": "4b02b196",
   "metadata": {},
   "outputs": [
    {
     "name": "stdout",
     "output_type": "stream",
     "text": [
      "Введите слова, разделенные пробелом aa ss dd ff\n"
     ]
    }
   ],
   "source": [
    "str1 = input(\"Введите слова, разделенные пробелом \")\n",
    "s1 = tuple(str(item) for item in str1.split(' '))\n",
    "s = pd.Series(s1)"
   ]
  },
  {
   "cell_type": "code",
   "execution_count": 19,
   "id": "175fa745",
   "metadata": {},
   "outputs": [
    {
     "name": "stdout",
     "output_type": "stream",
     "text": [
      "0    aa\n",
      "1    ss\n",
      "2    dd\n",
      "3    ff\n",
      "dtype: object\n"
     ]
    }
   ],
   "source": [
    "print(s)"
   ]
  },
  {
   "cell_type": "markdown",
   "id": "74aaf047",
   "metadata": {},
   "source": [
    "Задание 7. На вход поступает последовательность из чисел 0 и 1, разделенных пробелом. Создать на ее основе объект Series, содержащий булевы значения True (1) , False (0) c метками [a, b, c, d,...]"
   ]
  },
  {
   "cell_type": "code",
   "execution_count": null,
   "id": "d651ca82",
   "metadata": {},
   "outputs": [],
   "source": [
    "s =input().split(' ')"
   ]
  },
  {
   "cell_type": "code",
   "execution_count": null,
   "id": "110fd6e9",
   "metadata": {},
   "outputs": [],
   "source": [
    "print(s)"
   ]
  },
  {
   "cell_type": "markdown",
   "id": "c6763f80",
   "metadata": {},
   "source": [
    "Задание 8. Создать объект Series из списка дат ['2022-01-01', '2022-01-02', '2022 01-03'] , вывести его на печать. Даты в объекте Series должны быть представлены объектами datetime стандартной библиотеки языка программирования Python."
   ]
  },
  {
   "cell_type": "code",
   "execution_count": null,
   "id": "888ffe95",
   "metadata": {},
   "outputs": [],
   "source": []
  },
  {
   "cell_type": "markdown",
   "id": "b3b50d40",
   "metadata": {},
   "source": [
    "Задание 9. На вход подаются два целых числа n и m через пробел. На их основе создать объект Series с числами от n до m (включительно) с шагом 10 и метками [1, 3, 5, 7,...] . Вывести его на печать."
   ]
  },
  {
   "cell_type": "code",
   "execution_count": null,
   "id": "6be9d476",
   "metadata": {},
   "outputs": [],
   "source": []
  }
 ],
 "metadata": {
  "kernelspec": {
   "display_name": "Python 3 (ipykernel)",
   "language": "python",
   "name": "python3"
  },
  "language_info": {
   "codemirror_mode": {
    "name": "ipython",
    "version": 3
   },
   "file_extension": ".py",
   "mimetype": "text/x-python",
   "name": "python",
   "nbconvert_exporter": "python",
   "pygments_lexer": "ipython3",
   "version": "3.11.3"
  }
 },
 "nbformat": 4,
 "nbformat_minor": 5
}
