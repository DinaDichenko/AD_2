{
  "cells": [
    {
      "cell_type": "code",
      "execution_count": null,
      "id": "a2c8c214",
      "metadata": {
        "id": "a2c8c214"
      },
      "outputs": [],
      "source": [
        "import pandas as pd\n",
        "import numpy as np"
      ]
    },
    {
      "cell_type": "markdown",
      "id": "a10f65f3",
      "metadata": {
        "id": "a10f65f3"
      },
      "source": [
        "Задание 1. Создать объект Series из списка чисел [1, 2, 3] с метками [a, b, c] и вывести его на печать."
      ]
    },
    {
      "cell_type": "code",
      "execution_count": null,
      "id": "9d4490d5",
      "metadata": {
        "id": "9d4490d5"
      },
      "outputs": [],
      "source": [
        "s = pd.Series([1,2,3], index=['a', 'b', 'c'])"
      ]
    },
    {
      "cell_type": "code",
      "execution_count": null,
      "id": "3b866f43",
      "metadata": {
        "colab": {
          "base_uri": "https://localhost:8080/"
        },
        "id": "3b866f43",
        "outputId": "268c4474-69dc-43c0-b7a3-4bffd2aaa668"
      },
      "outputs": [
        {
          "output_type": "stream",
          "name": "stdout",
          "text": [
            "a    1\n",
            "b    2\n",
            "c    3\n",
            "dtype: int64\n"
          ]
        }
      ],
      "source": [
        "print(s)"
      ]
    },
    {
      "cell_type": "markdown",
      "id": "23e91140",
      "metadata": {
        "id": "23e91140"
      },
      "source": [
        "Задание 2. Создать объект Series из словаря {'a': 1, 'b': 2, 'c': 3} и вывести его на печать."
      ]
    },
    {
      "cell_type": "code",
      "execution_count": null,
      "id": "5701815e",
      "metadata": {
        "id": "5701815e"
      },
      "outputs": [],
      "source": [
        "my_list = {'a': 1, 'b': 2, 'c': 3}\n",
        "s = pd.Series(my_list)"
      ]
    },
    {
      "cell_type": "code",
      "execution_count": null,
      "id": "3cbd8d29",
      "metadata": {
        "colab": {
          "base_uri": "https://localhost:8080/"
        },
        "id": "3cbd8d29",
        "outputId": "84c4f69a-a7c9-40a1-d4cf-909a92eca39e"
      },
      "outputs": [
        {
          "output_type": "stream",
          "name": "stdout",
          "text": [
            "a    1\n",
            "b    2\n",
            "c    3\n",
            "dtype: int64\n"
          ]
        }
      ],
      "source": [
        "print(s)"
      ]
    },
    {
      "cell_type": "markdown",
      "id": "46eaafc1",
      "metadata": {
        "id": "46eaafc1"
      },
      "source": [
        "Задание 3. Создать объект массива NumPy arr = [1, 2, 3, 4, 5] , затем из него создать объект Series и вывести его на печать."
      ]
    },
    {
      "cell_type": "code",
      "execution_count": null,
      "id": "d6cb7e08",
      "metadata": {
        "id": "d6cb7e08"
      },
      "outputs": [],
      "source": [
        "my_array = np.array([1, 2, 3, 4, 5])\n",
        "s = pd.Series(my_array)"
      ]
    },
    {
      "cell_type": "code",
      "execution_count": null,
      "id": "307ca927",
      "metadata": {
        "colab": {
          "base_uri": "https://localhost:8080/"
        },
        "id": "307ca927",
        "outputId": "bc63e077-6976-4425-c467-d565804c3f66"
      },
      "outputs": [
        {
          "output_type": "stream",
          "name": "stdout",
          "text": [
            "0    1\n",
            "1    2\n",
            "2    3\n",
            "3    4\n",
            "4    5\n",
            "dtype: int64\n"
          ]
        }
      ],
      "source": [
        "print(s)"
      ]
    },
    {
      "cell_type": "markdown",
      "id": "bb69321f",
      "metadata": {
        "id": "bb69321f"
      },
      "source": [
        "Задание 4. Создать объект Series с заполнением по умолчанию значением 0 и метками [a, b, c] и вывести его на печать."
      ]
    },
    {
      "cell_type": "code",
      "execution_count": null,
      "id": "dbfbc3cc",
      "metadata": {
        "id": "dbfbc3cc"
      },
      "outputs": [],
      "source": [
        "s = pd.Series(0, index=['a', 'b', 'c'])"
      ]
    },
    {
      "cell_type": "code",
      "execution_count": null,
      "id": "f7290a1f",
      "metadata": {
        "colab": {
          "base_uri": "https://localhost:8080/"
        },
        "id": "f7290a1f",
        "outputId": "3f12129b-c31d-4bdd-e6a1-ff37b1509fc3"
      },
      "outputs": [
        {
          "output_type": "stream",
          "name": "stdout",
          "text": [
            "a    0\n",
            "b    0\n",
            "c    0\n",
            "dtype: int64\n"
          ]
        }
      ],
      "source": [
        "print(s)"
      ]
    },
    {
      "cell_type": "markdown",
      "id": "0c74f6e7",
      "metadata": {
        "id": "0c74f6e7"
      },
      "source": [
        "Задание 5. В первой строке ввода с клавиатуры поступает строка с символами разлепленными пробелом, во второй строка с целыми числами. На их основе создать список кортежей и из него объект Series, вывести его на печать."
      ]
    },
    {
      "cell_type": "code",
      "execution_count": 28,
      "id": "4d41e5f2",
      "metadata": {
        "colab": {
          "base_uri": "https://localhost:8080/"
        },
        "id": "4d41e5f2",
        "outputId": "d1a78fe6-065f-4d64-820c-33e75d762b71"
      },
      "outputs": [
        {
          "name": "stdout",
          "output_type": "stream",
          "text": [
            "Введите символы, разделенные пробелом a s d f\n",
            "Введите целые числа 1 2 3 4\n"
          ]
        }
      ],
      "source": [
        "str1 = input(\"Введите символы, разделенные пробелом \")\n",
        "str2 = input(\"Введите целые числа \")\n",
        "s1 = tuple(str(item) for item in str1.split(' '))\n",
        "s2 = tuple(int(item) for item in str2.split(' '))\n",
        "my_list = list(zip(s1, s2))\n",
        "s = pd.Series(my_list)"
      ]
    },
    {
      "cell_type": "code",
      "execution_count": 29,
      "id": "50d54095",
      "metadata": {
        "colab": {
          "base_uri": "https://localhost:8080/"
        },
        "id": "50d54095",
        "outputId": "cad9ad7e-e208-4301-f76a-86422008dd93"
      },
      "outputs": [
        {
          "output_type": "stream",
          "name": "stdout",
          "text": [
            "0    (a, 1)\n",
            "1    (s, 2)\n",
            "2    (d, 3)\n",
            "3    (f, 4)\n",
            "dtype: object\n"
          ]
        }
      ],
      "source": [
        "print(s)"
      ]
    },
    {
      "cell_type": "markdown",
      "id": "6564524a",
      "metadata": {
        "id": "6564524a"
      },
      "source": [
        "Задание 6. На вход поступает строка слов, разделенных пробелом. Создать на ее основе объект Series с метками 0, 1, 2,... Вывести его на печать."
      ]
    },
    {
      "cell_type": "code",
      "execution_count": null,
      "id": "4b02b196",
      "metadata": {
        "id": "4b02b196",
        "outputId": "998beb62-2462-422e-e8e1-7efcfb31192b"
      },
      "outputs": [
        {
          "name": "stdout",
          "output_type": "stream",
          "text": [
            "Введите слова, разделенные пробелом asd cool uwu\n"
          ]
        }
      ],
      "source": [
        "str1 = input(\"Введите слова, разделенные пробелом \")\n",
        "s1 = tuple(str(item) for item in str1.split(' '))\n",
        "s = pd.Series(s1)"
      ]
    },
    {
      "cell_type": "code",
      "execution_count": null,
      "id": "175fa745",
      "metadata": {
        "id": "175fa745",
        "outputId": "e0e6bb09-f1f4-4035-a706-ce74a4e88111"
      },
      "outputs": [
        {
          "name": "stdout",
          "output_type": "stream",
          "text": [
            "0     asd\n",
            "1    cool\n",
            "2     uwu\n",
            "dtype: object\n"
          ]
        }
      ],
      "source": [
        "print(s)"
      ]
    },
    {
      "cell_type": "markdown",
      "id": "74aaf047",
      "metadata": {
        "id": "74aaf047"
      },
      "source": [
        "Задание 7. На вход поступает последовательность из чисел 0 и 1, разделенных пробелом. Создать на ее основе объект Series, содержащий булевы значения True (1) , False (0) c метками [a, b, c, d,...]"
      ]
    },
    {
      "cell_type": "code",
      "execution_count": 32,
      "id": "d651ca82",
      "metadata": {
        "id": "d651ca82",
        "outputId": "d139fd10-ed7c-44df-9ad3-d5c14ae344c1",
        "colab": {
          "base_uri": "https://localhost:8080/"
        }
      },
      "outputs": [
        {
          "name": "stdout",
          "output_type": "stream",
          "text": [
            "1 0 1 1\n"
          ]
        }
      ],
      "source": [
        "s =input()\n",
        "st = list(map(int, s.split(' ')))\n",
        "\n",
        "st = pd.Series(st,  dtype=bool)\n",
        "st = st.rename(lambda x: chr(97 + x))"
      ]
    },
    {
      "cell_type": "code",
      "execution_count": 33,
      "id": "110fd6e9",
      "metadata": {
        "id": "110fd6e9",
        "outputId": "71584f69-5c39-4da8-d5f0-06a723186042",
        "colab": {
          "base_uri": "https://localhost:8080/"
        }
      },
      "outputs": [
        {
          "output_type": "stream",
          "name": "stdout",
          "text": [
            "a     True\n",
            "b    False\n",
            "c     True\n",
            "d     True\n",
            "dtype: bool\n"
          ]
        }
      ],
      "source": [
        "print(st)"
      ]
    },
    {
      "cell_type": "markdown",
      "id": "c6763f80",
      "metadata": {
        "id": "c6763f80"
      },
      "source": [
        "Задание 8. Создать объект Series из списка дат ['2022-01-01', '2022-01-02', '2022 01-03'] , вывести его на печать. Даты в объекте Series должны быть представлены объектами datetime стандартной библиотеки языка программирования Python."
      ]
    },
    {
      "cell_type": "code",
      "execution_count": null,
      "id": "888ffe95",
      "metadata": {
        "id": "888ffe95"
      },
      "outputs": [],
      "source": [
        "s = pd.Series(\n",
        "    data = pd.date_range('2022-01-01', periods=3))"
      ]
    },
    {
      "cell_type": "code",
      "execution_count": null,
      "id": "5d751782",
      "metadata": {
        "id": "5d751782",
        "outputId": "b638c946-94c2-4f39-f324-5928df98c8e9"
      },
      "outputs": [
        {
          "name": "stdout",
          "output_type": "stream",
          "text": [
            "0   2022-01-01\n",
            "1   2022-01-02\n",
            "2   2022-01-03\n",
            "dtype: datetime64[ns]\n"
          ]
        }
      ],
      "source": [
        "print(s)"
      ]
    },
    {
      "cell_type": "markdown",
      "id": "b3b50d40",
      "metadata": {
        "id": "b3b50d40"
      },
      "source": [
        "Задание 9. На вход подаются два целых числа n и m через пробел. На их основе создать объект Series с числами от n до m (включительно) с шагом 10 и метками [1, 3, 5, 7,...] . Вывести его на печать."
      ]
    },
    {
      "cell_type": "code",
      "execution_count": null,
      "id": "6be9d476",
      "metadata": {
        "colab": {
          "base_uri": "https://localhost:8080/"
        },
        "id": "6be9d476",
        "outputId": "80da0228-3c2f-4f00-9ac0-d3796ed840b5"
      },
      "outputs": [
        {
          "name": "stdout",
          "output_type": "stream",
          "text": [
            "Начальное число: 5\n",
            "Конечное число: 56\n"
          ]
        }
      ],
      "source": [
        "a = int(input(\"Начальное число: \"))\n",
        "b = int(input(\"Конечное число: \"))\n",
        "s = []\n",
        "\n",
        "sq = 0\n",
        "ref = 0\n",
        "while (ref + 10) < b:\n",
        "  ref = a +sq\n",
        "  s.append(ref)\n",
        "  sq += 10\n",
        "\n",
        "st = pd.Series(s)\n",
        "st = st.rename(lambda x: int(1 + 2*x))"
      ]
    },
    {
      "cell_type": "code",
      "execution_count": null,
      "id": "3a5a26ac",
      "metadata": {
        "colab": {
          "base_uri": "https://localhost:8080/"
        },
        "id": "3a5a26ac",
        "outputId": "7d80ca58-5ec3-413c-a5ff-b483a1943562"
      },
      "outputs": [
        {
          "output_type": "stream",
          "name": "stdout",
          "text": [
            "1      5\n",
            "3     15\n",
            "5     25\n",
            "7     35\n",
            "9     45\n",
            "11    55\n",
            "dtype: int64\n"
          ]
        }
      ],
      "source": [
        "print(st)"
      ]
    },
    {
      "cell_type": "markdown",
      "id": "fd443753",
      "metadata": {
        "id": "fd443753"
      },
      "source": [
        "Индивидуальное задание. Создать объект Series из словаря, содержащего ФИО ученика и его ID, отсортировать словарь по ID и вывести его на печать."
      ]
    },
    {
      "cell_type": "code",
      "execution_count": null,
      "id": "b931a93a",
      "metadata": {
        "id": "b931a93a"
      },
      "outputs": [],
      "source": [
        "my_list = {'98001': \"Зайцев Роберт Митрофанович\",\n",
        "           '98003': \"Никифоров Кондрат Пантелеймонович\",\n",
        "           '98002': \"Комаров Константин Робертович\",\n",
        "           '98006': \"Владимиров Авраам Богданович\",\n",
        "           '98005': \"Артемьева Беатриса Федосеевна\",\n",
        "           '98004': \"Воронцова Мальта Филипповна\"}\n",
        "sort_list = dict(sorted(my_list.items()))\n",
        "st = pd.Series(sort_list)"
      ]
    },
    {
      "cell_type": "code",
      "execution_count": null,
      "id": "2f780c30",
      "metadata": {
        "id": "2f780c30",
        "outputId": "b783cd70-0835-4926-8382-d558bcc44dd9"
      },
      "outputs": [
        {
          "name": "stdout",
          "output_type": "stream",
          "text": [
            "98001           Зайцев Роберт Митрофанович\n",
            "98002        Комаров Константин Робертович\n",
            "98003    Никифоров Кондрат Пантелеймонович\n",
            "98004          Воронцова Мальта Филипповна\n",
            "98005        Артемьева Беатриса Федосеевна\n",
            "98006         Владимиров Авраам Богданович\n",
            "dtype: object\n"
          ]
        }
      ],
      "source": [
        "print(st)"
      ]
    },
    {
      "cell_type": "code",
      "execution_count": null,
      "id": "839b8eaa",
      "metadata": {
        "id": "839b8eaa"
      },
      "outputs": [],
      "source": []
    }
  ],
  "metadata": {
    "kernelspec": {
      "display_name": "Python 3 (ipykernel)",
      "language": "python",
      "name": "python3"
    },
    "language_info": {
      "codemirror_mode": {
        "name": "ipython",
        "version": 3
      },
      "file_extension": ".py",
      "mimetype": "text/x-python",
      "name": "python",
      "nbconvert_exporter": "python",
      "pygments_lexer": "ipython3",
      "version": "3.11.3"
    },
    "colab": {
      "provenance": []
    }
  },
  "nbformat": 4,
  "nbformat_minor": 5
}